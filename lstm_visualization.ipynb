{
 "cells": [
  {
   "cell_type": "markdown",
   "metadata": {},
   "source": [
    "# Interpretabilidad LSTM"
   ]
  },
  {
   "cell_type": "markdown",
   "metadata": {},
   "source": [
    "## Imports y funciones"
   ]
  },
  {
   "cell_type": "code",
   "execution_count": null,
   "metadata": {},
   "outputs": [],
   "source": [
    "import sys\n",
    "import numpy as np\n",
    "import tensorflow as tf\n",
    "import matplotlib.pyplot as plt\n",
    "import matplotlib.patches as mpatch\n",
    "import math\n",
    "from IPython.core.display import display, HTML\n",
    "\n",
    "# Visualización \n",
    "def pinta_strings(estados, inputs, probs=None, umbral=0.0):\n",
    "    # estados: lista de arrays de estados en cada instante t.\n",
    "    # inputs: caracteres guardados en formato numérico en cada instante t.\n",
    "    # pinta_accept: Pinta las probs (solo valido para 3 simbolos).\n",
    "    # probs: Si pinta_accept es true, probabilidades de cada simbolo (solo valido para 3 simbolos).\n",
    "    \n",
    "    inputs_print = ''.join([int_to_char[x] for x in inputs])\n",
    "    \n",
    "    # Every neuron\n",
    "    \n",
    "    for ixNeurona in range(len(estados[0][0])):\n",
    "        if np.mean(np.abs(estados[0][:, ixNeurona])) < umbral:\n",
    "            continue\n",
    "        ylabel = \"N\" + str(ixNeurona)\n",
    "        \n",
    "        cadena = \"<h1>\" + ylabel + \"</h1><div style='letter-spacing: 5px;'>\"\n",
    "        \n",
    "        for i, simbolo in enumerate(inputs_print):\n",
    "            if simbolo == '\\n':\n",
    "                simbolo = '/n<br>'\n",
    "            if simbolo == '\\t':\n",
    "                simbolo = '&nbsp;&nbsp;&nbsp;&nbsp;/t'\n",
    "                \n",
    "            n = 255 - math.ceil(estados[i][0,ixNeurona] * 255)\n",
    "            \n",
    "            if estados[i][0, ixNeurona] < 0:\n",
    "                color = '#' + str(hex(n))[-2:] + 'FFFF'\n",
    "            else:\n",
    "                color = '#FF' + str(hex(n))[-2:] + str(hex(n))[-2:]\n",
    "                \n",
    "            cadena += \"<span style='background-color:\" + color + \"'>\" + simbolo + \"</span>\"\n",
    "            \n",
    "        cadena += \"</div>\"\n",
    "        display(HTML(cadena))\n",
    "    "
   ]
  },
  {
   "cell_type": "markdown",
   "metadata": {},
   "source": [
    "## Generación de los datos"
   ]
  },
  {
   "cell_type": "code",
   "execution_count": null,
   "metadata": {},
   "outputs": [],
   "source": [
    "raw_text = open(\"xml_dataset.xml\", \"r\").read()"
   ]
  },
  {
   "cell_type": "code",
   "execution_count": null,
   "metadata": {},
   "outputs": [],
   "source": [
    "# Mapeo de los carácteres a int\n",
    "chars = sorted(list(set(raw_text)))\n",
    "char_to_int = dict((c, i) for i, c in enumerate(chars))\n",
    "int_to_char = dict((i, c) for i, c in enumerate(chars))\n",
    "\n",
    "# Resumen de los datos cargados\n",
    "n_chars = len(raw_text)\n",
    "n_vocab = len(chars)\n",
    "print(\"Longitud total de carácteres: \", n_chars)\n",
    "print(\"Número total de carácteres distintos: \", n_vocab)"
   ]
  },
  {
   "cell_type": "code",
   "execution_count": null,
   "metadata": {},
   "outputs": [],
   "source": [
    "# Preparación del dataset de forma secuencial\n",
    "seq_length = 20\n",
    "data_x = []\n",
    "data_y = []\n",
    "\n",
    "for i in range(0, n_chars - seq_length, seq_length):\n",
    "    seq_in = raw_text[i:i + seq_length]\n",
    "    seq_out = raw_text[i + seq_length]\n",
    "    data_x.append([char_to_int[char] for char in seq_in])\n",
    "    data_y.append(char_to_int[seq_out])\n",
    "    \n",
    "n_patterns = len(data_x)\n",
    "print(\"Número total de patrones: \", n_patterns)"
   ]
  },
  {
   "cell_type": "markdown",
   "metadata": {},
   "source": [
    "## Entrenamiento de la red"
   ]
  },
  {
   "cell_type": "code",
   "execution_count": null,
   "metadata": {},
   "outputs": [],
   "source": [
    "lstm_neurons = 50\n",
    "epochs = 50\n",
    "batch_size = 30\n",
    "l1reg = 0"
   ]
  },
  {
   "cell_type": "code",
   "execution_count": null,
   "metadata": {},
   "outputs": [],
   "source": [
    "# One hot encoding de la entrada\n",
    "x = np.reshape(tf.keras.utils.to_categorical(data_x,num_classes=n_vocab), (n_patterns, seq_length, n_vocab))\n",
    "y = tf.keras.utils.to_categorical(data_y,num_classes=n_vocab)\n",
    "\n",
    "# Definición de la capa de entrada\n",
    "input = tf.keras.layers.Input(shape=(seq_length, n_vocab))\n",
    "\n",
    "# Creación de la LSTM\n",
    "if l1reg != 0:\n",
    "    lstm1 = tf.keras.layers.LSTM(lstm_neurons,name='lstm1',return_sequences=True,\n",
    "        activity_regularizer=tf.keras.regularizers.l1(l1reg))(input)\n",
    "    lstm2 = tf.keras.layers.LSTM(lstm_neurons,name='lstm2',\n",
    "        activity_regularizer=tf.keras.regularizers.l1(l1reg))(lstm1)\n",
    "else:\n",
    "    lstm1 = tf.keras.layers.LSTM(lstm_neurons,name='lstm1',return_sequences=True)(input)\n",
    "    lstm2 = tf.keras.layers.LSTM(lstm_neurons,name='lstm2')(lstm1)\n",
    "\n",
    "# Añadida la capa de salida\n",
    "dense = tf.keras.layers.Dense(n_vocab, activation='softmax')(lstm2)\n",
    "\n",
    "# Compilación del modelo\n",
    "model = tf.keras.models.Model(inputs=input, outputs=[dense])\n",
    "print(model.summary())\n",
    "model.compile(loss='categorical_crossentropy', optimizer='adam')\n",
    "\n",
    "# Modelo intermedio para explorar el valor de los hidden state\n",
    "hidden1_model = tf.keras.models.Model(inputs=model.input,outputs=lstm1)\n",
    "hidden2_model = tf.keras.models.Model(inputs=model.input,outputs=lstm2)\n",
    "\n",
    "# Entrenamiento de la red\n",
    "model.fit(x, y, epochs=epochs, batch_size=batch_size)#, steps_per_epoch=1)#,callbacks=callbacks_list)"
   ]
  },
  {
   "cell_type": "markdown",
   "metadata": {},
   "source": [
    "## Predicción de la red"
   ]
  },
  {
   "cell_type": "code",
   "execution_count": null,
   "metadata": {},
   "outputs": [],
   "source": [
    "# Se escoge una semilla inicial aleatoria\n",
    "start = np.random.randint(0, len(data_x)-1)\n",
    "pattern = data_x[start]\n",
    "print(\"Semilla inicial:\")\n",
    "print(''.join([int_to_char[value] for value in pattern]))\n",
    "\n",
    "# Generación de los carácteres\n",
    "probs = []\n",
    "hidden_states = []\n",
    "hidden_states2 = []\n",
    "inputs = []\n",
    "\n",
    "for i in range(500):\n",
    "    x = np.reshape(tf.keras.utils.to_categorical(pattern,num_classes=n_vocab),\n",
    "        (1, len(pattern), n_vocab))\n",
    "    \n",
    "    # Predicción del siguiente carácter\n",
    "    prediction = model.predict(x, verbose=0)\n",
    "    probs.append(prediction)\n",
    "    \n",
    "    # Se guardan el valor de los hidden states a interpretar\n",
    "    hidden_states.append(hidden1_model.predict(x,verbose=0)[-1])\n",
    "    hidden_states2.append(hidden2_model.predict(x,verbose=0))\n",
    "    \n",
    "    # De forma aleatoria con la probabilidad dada por la red se elige el nuevo carácter\n",
    "    index = np.random.choice(range(n_vocab), p=prediction.ravel())\n",
    "    \n",
    "    #result = int_to_char[index]\n",
    "    # Se guarda el valor para compararlo con la activación\n",
    "    inputs.append(index)\n",
    "\n",
    "    # Se añade de forma recursiva el carácter generado\n",
    "    pattern.append(index)\n",
    "    pattern = pattern[1:len(pattern)]"
   ]
  },
  {
   "cell_type": "code",
   "execution_count": null,
   "metadata": {
    "scrolled": false
   },
   "outputs": [],
   "source": [
    "# ROJO: ' '\n",
    "# VERDE: 'a'\n",
    "# AZUL: 'b'\n",
    "pinta_strings(hidden_states2, inputs, probs=probs, umbral=0)"
   ]
  }
 ],
 "metadata": {
  "kernelspec": {
   "display_name": "Python 3",
   "language": "python",
   "name": "python3"
  },
  "language_info": {
   "codemirror_mode": {
    "name": "ipython",
    "version": 3
   },
   "file_extension": ".py",
   "mimetype": "text/x-python",
   "name": "python",
   "nbconvert_exporter": "python",
   "pygments_lexer": "ipython3",
   "version": "3.7.0"
  }
 },
 "nbformat": 4,
 "nbformat_minor": 2
}
