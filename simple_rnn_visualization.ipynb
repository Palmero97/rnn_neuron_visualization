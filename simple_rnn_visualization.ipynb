{
 "cells": [
  {
   "cell_type": "markdown",
   "metadata": {},
   "source": [
    "# Interpretabilidad SimpleRNN"
   ]
  },
  {
   "cell_type": "markdown",
   "metadata": {},
   "source": [
    "## Imports y funciones"
   ]
  },
  {
   "cell_type": "code",
   "execution_count": null,
   "metadata": {},
   "outputs": [],
   "source": [
    "import sys\n",
    "import numpy as np\n",
    "import numpy\n",
    "import tensorflow as tf\n",
    "import matplotlib.pyplot as plt\n",
    "import matplotlib.patches as mpatch\n",
    "\n",
    "# Visualización \n",
    "def pinta_strings(estados, inputs, pinta_accept=False, probs=None, umbral=0.0):\n",
    "    # estados: lista de arrays de estados en cada instante t.\n",
    "    # inputs: caracteres guardados en formato numérico en cada instante t.\n",
    "    # pinta_accept: Pinta las probs (solo valido para 3 simbolos).\n",
    "    # probs: Si pinta_accept es true, probabilidades de cada simbolo (solo valido para 3 simbolos).\n",
    "    \n",
    "    inputs_print = ''.join([int_to_char[x] for x in inputs])\n",
    "\n",
    "    # Accept or not\n",
    "    if (pinta_accept):\n",
    "        fig, ax = plt.subplots(figsize=(20,20))\n",
    "        plt.ylabel(\"Probs\")\n",
    "        for i, simbolo in enumerate(inputs_print):\n",
    "            rectangle = mpatch.Rectangle((i,0), 1, 1, color=(probs[i][0,0],probs[i][0,1],probs[i][0,2]))\n",
    "\n",
    "            ax.add_artist(rectangle)\n",
    "            rx, ry = rectangle.get_xy()\n",
    "            cx = rx + rectangle.get_width()/2.0\n",
    "            cy = ry + rectangle.get_height()/2.0\n",
    "\n",
    "            ax.annotate(simbolo, (cx, cy), color='k', weight='bold',\n",
    "                        fontsize=14, ha='center', va='center')\n",
    "\n",
    "    ax.set_aspect('equal')\n",
    "    ax.set_xlim((0, len(inputs)))\n",
    "    plt.show()\n",
    "            \n",
    "    # Every neuron\n",
    "    for ixNeurona in range(len(estados[0][0])):\n",
    "        if np.mean(np.abs(estados[i][:, ixNeurona])) < umbral:\n",
    "            continue\n",
    "        fig, ax = plt.subplots(figsize=(20,20))\n",
    "        plt.ylabel(\"N\" + str(ixNeurona))\n",
    "        for i, simbolo in enumerate(inputs_print):\n",
    "            if estados[i][0, ixNeurona] < 0:\n",
    "                rectangle = mpatch.Rectangle((i,0), 1, 1, color=(1.+estados[i][0,ixNeurona],\n",
    "                                                                 1.,\n",
    "                                                                 1.))\n",
    "            else:\n",
    "                rectangle = mpatch.Rectangle((i,0), 1, 1, color=(1.,\n",
    "                                                                 1.-estados[i][0,ixNeurona],\n",
    "                                                                 1.-estados[i][0,ixNeurona]))\n",
    "\n",
    "            ax.add_artist(rectangle)\n",
    "            rx, ry = rectangle.get_xy()\n",
    "            cx = rx + rectangle.get_width()/2.0\n",
    "            cy = ry + rectangle.get_height()/2.0\n",
    "\n",
    "            ax.annotate(simbolo, (cx, cy), color='k', weight='bold',\n",
    "                        fontsize=14, ha='center', va='center')\n",
    "\n",
    "        ax.set_aspect('equal')\n",
    "        ax.set_xlim((0, len(inputs)))\n",
    "        plt.show()\n",
    "\n",
    "# Generación del dataset\n",
    "def generate_seq(numWords):\n",
    "    cadena = \"\"\n",
    "    alphabet = [\"aa\", \"bbb\", \"aaaa\", \"bbbbb\", \"aaaaaa\", \"bbbbbbb\"]\n",
    "    return \" \".join([alphabet[np.random.randint(6, size=1)[0]] for _ in range(numWords)])"
   ]
  },
  {
   "cell_type": "markdown",
   "metadata": {},
   "source": [
    "## Generación de los datos"
   ]
  },
  {
   "cell_type": "code",
   "execution_count": null,
   "metadata": {},
   "outputs": [],
   "source": [
    "raw_text = generate_seq(200000)"
   ]
  },
  {
   "cell_type": "code",
   "execution_count": null,
   "metadata": {},
   "outputs": [],
   "source": [
    "# Mapeo de los carácteres a int\n",
    "chars = sorted(list(set(raw_text)))\n",
    "char_to_int = dict((c, i) for i, c in enumerate(chars))\n",
    "int_to_char = dict((i, c) for i, c in enumerate(chars))\n",
    "\n",
    "# Resumen de los datos cargados\n",
    "n_chars = len(raw_text)\n",
    "n_vocab = len(chars)\n",
    "print(\"Longitud total de carácteres: \", n_chars)\n",
    "print(\"Número total de carácteres distintos: \", n_vocab)"
   ]
  },
  {
   "cell_type": "code",
   "execution_count": null,
   "metadata": {},
   "outputs": [],
   "source": [
    "# Preparación del dataset de forma secuencial\n",
    "seq_length = 20\n",
    "data_x = []\n",
    "data_y = []\n",
    "\n",
    "for i in range(0, n_chars - seq_length, seq_length):\n",
    "    seq_in = raw_text[i:i + seq_length]\n",
    "    seq_out = raw_text[i + seq_length]\n",
    "    data_x.append([char_to_int[char] for char in seq_in])\n",
    "    data_y.append(char_to_int[seq_out])\n",
    "    \n",
    "n_patterns = len(data_x)\n",
    "print(\"Número total de patrones: \", n_patterns)"
   ]
  },
  {
   "cell_type": "markdown",
   "metadata": {},
   "source": [
    "## Entrenamiento de la red"
   ]
  },
  {
   "cell_type": "code",
   "execution_count": null,
   "metadata": {},
   "outputs": [],
   "source": [
    "# Parámetros de la red\n",
    "rnn_neurons = 3\n",
    "epochs = 50\n",
    "batch_size = 30\n",
    "l1reg = 1e-4"
   ]
  },
  {
   "cell_type": "code",
   "execution_count": null,
   "metadata": {
    "scrolled": true
   },
   "outputs": [],
   "source": [
    "# One hot encoding de la entrada\n",
    "x = np.reshape(tf.keras.utils.to_categorical(data_x), (n_patterns, seq_length, n_vocab))\n",
    "y = tf.keras.utils.to_categorical(data_y)\n",
    "\n",
    "# Definición de la capa de entrada\n",
    "input = tf.keras.layers.Input(shape=(seq_length, n_vocab))\n",
    "\n",
    "# Creación del RNN\n",
    "if l1reg != 0:\n",
    "    rnn = tf.keras.layers.SimpleRNN(rnn_neurons,name='rnn',\n",
    "        activity_regularizer=tf.keras.regularizers.l1(l1reg))(input)\n",
    "else:\n",
    "    rnn = tf.keras.layers.SimpleRNN(rnn_neurons,name='rnn')(input)\n",
    "\n",
    "# Añadida la capa de salida\n",
    "dense = tf.keras.layers.Dense(n_vocab, activation='softmax')(rnn)\n",
    "\n",
    "# Compilación del modelo\n",
    "model = tf.keras.models.Model(inputs=input, outputs=[dense])\n",
    "print(model.summary())\n",
    "model.compile(loss='categorical_crossentropy', optimizer='adam')\n",
    "\n",
    "# Modelo intermedio para explorar el valor del peso recurrente\n",
    "intermediate_layer_model = tf.keras.models.Model(inputs=model.input,\n",
    "    outputs=model.get_layer('rnn').output)\n",
    "\n",
    "# Entrenamiento de la red\n",
    "model.fit(x, y, epochs=epochs, batch_size=batch_size)"
   ]
  },
  {
   "cell_type": "markdown",
   "metadata": {},
   "source": [
    "## Predicción de la red"
   ]
  },
  {
   "cell_type": "code",
   "execution_count": null,
   "metadata": {},
   "outputs": [],
   "source": [
    "# Se escoge una semilla inicial aleatoria\n",
    "start = np.random.randint(0, len(data_x)-1)\n",
    "pattern = data_x[start]\n",
    "print(\"Semilla inicial:\")\n",
    "print(''.join([int_to_char[value] for value in pattern]))\n",
    "\n",
    "# Generación de los carácteres\n",
    "probs = []\n",
    "estados = []\n",
    "inputs = []\n",
    "\n",
    "for i in range(50):\n",
    "    x = np.reshape(tf.keras.utils.to_categorical(pattern,num_classes=n_vocab), \n",
    "        (1, len(pattern), n_vocab))\n",
    "    \n",
    "    # Predicción del siguiente carácter\n",
    "    prediction = model.predict(x, verbose=0)\n",
    "    probs.append(prediction)\n",
    "    \n",
    "    # Se guardan el valor de los pesos a interpretar\n",
    "    estados.append(intermediate_layer_model.predict(x,verbose=0))\n",
    "    \n",
    "    # De forma aleatoria con la probabilidad dada por la red se elige el nuevo carácter\n",
    "    index = np.random.choice(range(n_vocab), p=prediction.ravel())\n",
    "    \n",
    "    # Se guarda el valor para compararlo con la activación\n",
    "    inputs.append(index)\n",
    "    \n",
    "    # Se añade de forma recursiva el carácter generado\n",
    "    pattern.append(index)\n",
    "    pattern = pattern[1:len(pattern)]\n"
   ]
  },
  {
   "cell_type": "markdown",
   "metadata": {},
   "source": [
    "## Interpretabilidad"
   ]
  },
  {
   "cell_type": "code",
   "execution_count": null,
   "metadata": {
    "scrolled": false
   },
   "outputs": [],
   "source": [
    "# ROJO: ' '\n",
    "# VERDE: 'a'\n",
    "# AZUL: 'b'\n",
    "pinta_strings(estados, inputs, pinta_accept=True, probs=probs, umbral=0)"
   ]
  }
 ],
 "metadata": {
  "kernelspec": {
   "display_name": "Python 3",
   "language": "python",
   "name": "python3"
  },
  "language_info": {
   "codemirror_mode": {
    "name": "ipython",
    "version": 3
   },
   "file_extension": ".py",
   "mimetype": "text/x-python",
   "name": "python",
   "nbconvert_exporter": "python",
   "pygments_lexer": "ipython3",
   "version": "3.7.0"
  }
 },
 "nbformat": 4,
 "nbformat_minor": 2
}
